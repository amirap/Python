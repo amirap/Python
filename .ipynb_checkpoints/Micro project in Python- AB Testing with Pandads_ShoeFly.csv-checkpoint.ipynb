{
 "cells": [
  {
   "cell_type": "code",
   "execution_count": 2,
   "metadata": {},
   "outputs": [],
   "source": [
    "# ShoeFly.com is performing an A/B Test. They have two different versions of an ad, which they have placed in \n",
    "# emails, as well as in banner ads on Facebook, Twitter, and Google. \n",
    "# They want to know how the two ads are performing on each of the different platforms on each day of the week."
   ]
  },
  {
   "cell_type": "code",
   "execution_count": 2,
   "metadata": {},
   "outputs": [],
   "source": [
    "import pandas as pd"
   ]
  },
  {
   "cell_type": "code",
   "execution_count": 27,
   "metadata": {},
   "outputs": [
    {
     "name": "stdout",
     "output_type": "stream",
     "text": [
      "                                user_id utm_source           day  \\\n",
      "0  008b7c6c-7272-471e-b90e-930d548bd8d7     google  6 - Saturday   \n",
      "1  009abb94-5e14-4b6c-bb1c-4f4df7aa7557   facebook    7 - Sunday   \n",
      "2  00f5d532-ed58-4570-b6d2-768df5f41aed    twitter   2 - Tuesday   \n",
      "\n",
      "  ad_click_timestamp experimental_group  \n",
      "0               7:18                  A  \n",
      "1                NaN                  B  \n",
      "2                NaN                  A  \n",
      "                                user_id utm_source       day  \\\n",
      "0  008b7c6c-7272-471e-b90e-930d548bd8d7     google  Saturday   \n",
      "1  009abb94-5e14-4b6c-bb1c-4f4df7aa7557   facebook    Sunday   \n",
      "2  00f5d532-ed58-4570-b6d2-768df5f41aed    twitter   Tuesday   \n",
      "\n",
      "  ad_click_timestamp experimental_group  \n",
      "0               7:18                  A  \n",
      "1                NaN                  B  \n",
      "2                NaN                  A  \n",
      "                                 user_id utm_source      day  \\\n",
      "8   018cea61-19ea-4119-895b-1a4309ccb148      email   Monday   \n",
      "9   01a210c3-fde0-4e6f-8efd-4f0e38730ae6      email  Tuesday   \n",
      "12  01fb228a-9d28-4cde-932c-59b933fa763b      email   Sunday   \n",
      "\n",
      "   ad_click_timestamp experimental_group  \n",
      "8               18:33                  A  \n",
      "9               15:21                  B  \n",
      "12                NaN                  A  \n",
      "                                 user_id utm_source       day  \\\n",
      "8   018cea61-19ea-4119-895b-1a4309ccb148      email    Monday   \n",
      "12  01fb228a-9d28-4cde-932c-59b933fa763b      email    Sunday   \n",
      "34  06aa1cc0-4366-4558-b74c-24bb797cff0b      email  Thursday   \n",
      "\n",
      "   ad_click_timestamp experimental_group  \n",
      "8               18:33                  A  \n",
      "12                NaN                  A  \n",
      "34                NaN                  A  \n",
      "                                  user_id utm_source       day  \\\n",
      "12   01fb228a-9d28-4cde-932c-59b933fa763b      email    Sunday   \n",
      "329  358204fe-f9da-4e14-977f-a45792a7d166      email  Saturday   \n",
      "355  3a49d59a-76a6-4462-b005-3a86e0429442      email    Sunday   \n",
      "\n",
      "    ad_click_timestamp experimental_group  \n",
      "12                 NaN                  A  \n",
      "329                NaN                  A  \n",
      "355                NaN                  A  \n"
     ]
    }
   ],
   "source": [
    "# load the dataframe CSV and incpect it\n",
    "ad_clicks = pd.read_csv('Micro project in Python- AB Testing with Pandads_Dataset.csv')\n",
    "# Inspect the data \n",
    "print(ad_clicks.head(3))\n",
    "\n",
    "# Remove the numbers from days\n",
    "r_n = lambda x: x.split(' ')[-1]\n",
    "ad_clicks['day'] = ad_clicks.day.apply(r_n)\n",
    "print(ad_clicks.head(3))\n",
    "\n",
    "# see the visits coming from email \n",
    "email = ad_clicks[ad_clicks.utm_source == 'email']\n",
    "print(email.head(3))\n",
    "\n",
    "# see the visits coming from email and Ad A\n",
    "email_A = ad_clicks[(ad_clicks.utm_source == 'email') & (ad_clicks.experimental_group == 'A')]\n",
    "print(email_A.head(3))\n",
    "\n",
    "# see the visits coming from email and Ad A on Saturday or Sundays \n",
    "email_AS = email_A[email_A.day.isin(['Saturday', 'Sunday'])]\n",
    "print(email_AS.head(3))"
   ]
  },
  {
   "cell_type": "code",
   "execution_count": 25,
   "metadata": {},
   "outputs": [
    {
     "name": "stdout",
     "output_type": "stream",
     "text": [
      "   platform  nr_of_views\n",
      "0     email          255\n",
      "1  facebook          504\n",
      "2    google          680\n",
      "3   twitter          215\n"
     ]
    }
   ],
   "source": [
    "# How many views came from each platfrom?\n",
    "visit_platform = ad_clicks.groupby('utm_source').user_id.count().reset_index()\n",
    "# Rename the columns to be more representative\n",
    "visit_platform.columns = ['platform', 'nr_of_views']\n",
    "print(visit_platform)"
   ]
  },
  {
   "cell_type": "code",
   "execution_count": 31,
   "metadata": {},
   "outputs": [
    {
     "name": "stdout",
     "output_type": "stream",
     "text": [
      "                                user_id utm_source       day  \\\n",
      "0  008b7c6c-7272-471e-b90e-930d548bd8d7     google  Saturday   \n",
      "1  009abb94-5e14-4b6c-bb1c-4f4df7aa7557   facebook    Sunday   \n",
      "2  00f5d532-ed58-4570-b6d2-768df5f41aed    twitter   Tuesday   \n",
      "\n",
      "  ad_click_timestamp experimental_group weekday  \n",
      "0               7:18                  A      No  \n",
      "1                NaN                  B      No  \n",
      "2                NaN                  A     Yes  \n",
      "  utm_source weekday  user_id\n",
      "0      email      No       69\n",
      "1      email     Yes      186\n",
      "2   facebook      No      137\n",
      "3   facebook     Yes      367\n",
      "4     google      No      188\n",
      "5     google     Yes      492\n",
      "6    twitter      No       60\n",
      "7    twitter     Yes      155\n"
     ]
    }
   ],
   "source": [
    "# How many visits come from each platform separated based on the weekday and weekend\n",
    "\n",
    "# Add a column for weekday and weekend \n",
    "ad_clicks['weekday'] = ad_clicks.apply(lambda row: 'No' if (row['day'] == 'Saturday') | (row['day'] == 'Sunday') else 'Yes', axis=1)\n",
    "print(ad_clicks.head(3))\n",
    "\n",
    "visit_platform_w= ad_clicks.groupby(['utm_source', 'weekday']).user_id.count().reset_index()\n",
    "print(visit_platform_w)\n",
    "\n"
   ]
  },
  {
   "cell_type": "code",
   "execution_count": 12,
   "metadata": {},
   "outputs": [
    {
     "name": "stdout",
     "output_type": "stream",
     "text": [
      "  platfrom  nr_of_views\n",
      "2   google          680\n"
     ]
    }
   ],
   "source": [
    "# Which platfrom drived the most visits?\n",
    "max_view = visit_platfrom[visit_platfrom.nr_of_views == visit_platfrom.nr_of_views.max()]\n",
    "print(max_view)"
   ]
  },
  {
   "cell_type": "code",
   "execution_count": 13,
   "metadata": {},
   "outputs": [
    {
     "name": "stdout",
     "output_type": "stream",
     "text": [
      "                                user_id utm_source           day  \\\n",
      "0  008b7c6c-7272-471e-b90e-930d548bd8d7     google  6 - Saturday   \n",
      "1  009abb94-5e14-4b6c-bb1c-4f4df7aa7557   facebook    7 - Sunday   \n",
      "2  00f5d532-ed58-4570-b6d2-768df5f41aed    twitter   2 - Tuesday   \n",
      "\n",
      "  ad_click_timestamp experimental_group  is_click  \n",
      "0               7:18                  A      True  \n",
      "1                NaN                  B     False  \n",
      "2                NaN                  A     False  \n"
     ]
    }
   ],
   "source": [
    "#Add a column to identify clicks \n",
    "ad_clicks['is_click'] = ~ad_clicks.ad_click_timestamp.isnull()\n",
    "print(ad_clicks.head(3))"
   ]
  },
  {
   "cell_type": "code",
   "execution_count": 15,
   "metadata": {},
   "outputs": [
    {
     "name": "stdout",
     "output_type": "stream",
     "text": [
      "is_click utm_source  False  True\n",
      "0             email    175    80\n",
      "1          facebook    324   180\n",
      "2            google    441   239\n",
      "3           twitter    149    66\n",
      "is_click utm_source  False  True  percent_clicked\n",
      "0             email    175    80         0.313725\n",
      "1          facebook    324   180         0.357143\n",
      "2            google    441   239         0.351471\n",
      "3           twitter    149    66         0.306977\n"
     ]
    }
   ],
   "source": [
    "# The percent of real people who clicked on ads from each platform\n",
    "clicks_by_source = ad_clicks.groupby(['utm_source', 'is_click']).user_id.count().reset_index()\n",
    "# print(clicks_by_source)\n",
    "# Pivot the data\n",
    "clicks_pivot = clicks_by_source.pivot(columns = 'is_click', index = 'utm_source', values='user_id').reset_index()\n",
    "print(clicks_pivot)\n",
    "clicks_pivot['percent_clicked'] = clicks_pivot[True] / (clicks_pivot[True] + clicks_pivot[False])\n",
    "print(clicks_pivot)"
   ]
  },
  {
   "cell_type": "code",
   "execution_count": 16,
   "metadata": {},
   "outputs": [
    {
     "name": "stdout",
     "output_type": "stream",
     "text": [
      "experimental_group\n",
      "A    827\n",
      "B    827\n",
      "Name: user_id, dtype: int64\n",
      "experimental_group  is_click\n",
      "A                   False       517\n",
      "                    True        310\n",
      "B                   False       572\n",
      "                    True        255\n",
      "Name: user_id, dtype: int64\n"
     ]
    }
   ],
   "source": [
    "# A versus B ads, display and click \n",
    "A_B = ad_clicks.groupby('experimental_group').user_id.count()\n",
    "print(A_B)\n",
    "A_B_actual = ad_clicks.groupby(['experimental_group','is_click']).user_id.count()\n",
    "print(A_B_actual)"
   ]
  },
  {
   "cell_type": "code",
   "execution_count": 20,
   "metadata": {},
   "outputs": [
    {
     "name": "stdout",
     "output_type": "stream",
     "text": [
      "                                user_id utm_source           day  \\\n",
      "0  008b7c6c-7272-471e-b90e-930d548bd8d7     google  6 - Saturday   \n",
      "2  00f5d532-ed58-4570-b6d2-768df5f41aed    twitter   2 - Tuesday   \n",
      "\n",
      "  ad_click_timestamp experimental_group  is_click  \n",
      "0               7:18                  A      True  \n",
      "2                NaN                  A     False  \n",
      "                                user_id utm_source          day  \\\n",
      "1  009abb94-5e14-4b6c-bb1c-4f4df7aa7557   facebook   7 - Sunday   \n",
      "3  011adc64-0f44-4fd9-a0bb-f1506d2ad439     google  2 - Tuesday   \n",
      "\n",
      "  ad_click_timestamp experimental_group  is_click  \n",
      "1                NaN                  B     False  \n",
      "3                NaN                  B     False  \n"
     ]
    }
   ],
   "source": [
    "# clicks for each ad type A and B\n",
    "a_clicks = ad_clicks[ad_clicks.experimental_group == 'A']\n",
    "print(a_clicks.head(2))\n",
    "b_clicks = ad_clicks[ad_clicks.experimental_group == 'B']\n",
    "print(b_clicks.head(2))"
   ]
  },
  {
   "cell_type": "code",
   "execution_count": 27,
   "metadata": {},
   "outputs": [
    {
     "name": "stdout",
     "output_type": "stream",
     "text": [
      "% of the clicks per day for Ad A\n",
      "is_click            day  False  True      day%\n",
      "0            1 - Monday     70    43  0.380531\n",
      "1           2 - Tuesday     76    43  0.361345\n",
      "2         3 - Wednesday     86    38  0.306452\n",
      "3          4 - Thursday     69    47  0.405172\n",
      "4            5 - Friday     77    51  0.398438\n",
      "5          6 - Saturday     73    45  0.381356\n",
      "6            7 - Sunday     66    43  0.394495\n",
      " \n",
      "% of the clicks per day for Ad B\n",
      "is_click            day  False  True      day%\n",
      "0            1 - Monday     81    32  0.283186\n",
      "1           2 - Tuesday     74    45  0.378151\n",
      "2         3 - Wednesday     89    35  0.282258\n",
      "3          4 - Thursday     87    29  0.250000\n",
      "4            5 - Friday     90    38  0.296875\n",
      "5          6 - Saturday     76    42  0.355932\n",
      "6            7 - Sunday     75    34  0.311927\n",
      " \n",
      "It's clear Ad A had highest click through ratio\n"
     ]
    }
   ],
   "source": [
    "# clicks % per day for each ad type A and B\n",
    "a_clicks_n = a_clicks.groupby(['day', 'is_click']).user_id.count().reset_index()\n",
    "#print(a_clicks_n)\n",
    "a_clicks_nn = a_clicks_n.pivot(columns='is_click', index='day', values='user_id').reset_index()\n",
    "a_clicks_nn['day%'] = a_clicks_nn[True] / (a_clicks_nn[True] + a_clicks_nn[False])\n",
    "\n",
    "b_clicks_n = b_clicks.groupby(['day', 'is_click']).user_id.count().reset_index()\n",
    "#print(b_clicks_n)\n",
    "b_clicks_nn = b_clicks_n.pivot(columns='is_click', index='day', values='user_id').reset_index()\n",
    "b_clicks_nn['day%'] = b_clicks_nn[True] / (b_clicks_nn[True] + b_clicks_nn[False])\n",
    "\n",
    "print(\"% of the clicks per day for Ad A\")\n",
    "print(a_clicks_nn)\n",
    "print(\" \")\n",
    "print(\"% of the clicks per day for Ad B\")\n",
    "print(b_clicks_nn)\n",
    "print(\" \")\n",
    "print(\"It's clear Ad A had highest click through ratio\")"
   ]
  },
  {
   "cell_type": "code",
   "execution_count": null,
   "metadata": {},
   "outputs": [],
   "source": []
  }
 ],
 "metadata": {
  "kernelspec": {
   "display_name": "Python 3",
   "language": "python",
   "name": "python3"
  },
  "language_info": {
   "codemirror_mode": {
    "name": "ipython",
    "version": 3
   },
   "file_extension": ".py",
   "mimetype": "text/x-python",
   "name": "python",
   "nbconvert_exporter": "python",
   "pygments_lexer": "ipython3",
   "version": "3.7.1"
  }
 },
 "nbformat": 4,
 "nbformat_minor": 2
}
