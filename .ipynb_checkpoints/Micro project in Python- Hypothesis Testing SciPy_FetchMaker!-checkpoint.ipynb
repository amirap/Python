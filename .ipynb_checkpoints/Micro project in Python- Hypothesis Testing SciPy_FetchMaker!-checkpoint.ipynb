{
 "cells": [
  {
   "cell_type": "code",
   "execution_count": 2,
   "metadata": {},
   "outputs": [],
   "source": [
    "# Project: use different statistical testing to validate hypotheses \n",
    "# FetchMaker’s mission is to match up prospective dog owners with their perfect pet. "
   ]
  },
  {
   "cell_type": "code",
   "execution_count": 27,
   "metadata": {},
   "outputs": [],
   "source": [
    "import numpy as np\n",
    "import pandas as pd\n",
    "from scipy.stats import ttest_1samp, binom_test, f_oneway, chi2_contingency\n",
    "from statsmodels.stats.multicomp import pairwise_tukeyhsd\n",
    "from IPython.core.interactiveshell import InteractiveShell\n",
    "InteractiveShell.ast_node_interactivity = \"all\""
   ]
  },
  {
   "cell_type": "code",
   "execution_count": 28,
   "metadata": {},
   "outputs": [],
   "source": [
    "dogs = pd.read_csv(\"Micro project in Python- Hypothesis Testing SciPy_Dataset.csv\")\n",
    "#print(dogs)"
   ]
  },
  {
   "cell_type": "code",
   "execution_count": 29,
   "metadata": {},
   "outputs": [],
   "source": [
    "# Define the function to retrieve dog attributes \n",
    "def get_attribute(breed, attribute):\n",
    "  if breed in dogs.breed.unique():\n",
    "    if attribute in dogs.columns:\n",
    "        return dogs[dogs[\"breed\"] == breed][attribute]\n",
    "    else:\n",
    "      raise NameError('Attribute {} does not exist.'.format(attribute))\n",
    "  else:\n",
    "    raise NameError('Breed {} does not exist.'.format(breed))"
   ]
  },
  {
   "cell_type": "code",
   "execution_count": 30,
   "metadata": {},
   "outputs": [],
   "source": [
    "# Define the sub-functions to retrieve different attributes \n",
    "def get_weight(breed):\n",
    "  return get_attribute(breed, 'weight')\n",
    "  \n",
    "def get_tail_length(breed):\n",
    "  return get_attribute(breed, 'tail_length')\n",
    "\n",
    "def get_color(breed):\n",
    "    return get_attribute(breed, 'color')\n",
    "\n",
    "def get_age(breed):\n",
    "    return get_attribute(breed, 'age')\n",
    "\n",
    "def get_is_rescue(breed):\n",
    "    return get_attribute(breed, 'is_rescue')\n",
    "\n",
    "def get_likes_children(breed):\n",
    "    return get_attribute(breed, 'likes_children')\n",
    "\n",
    "def get_is_hypoallergenic(breed):\n",
    "    return get_attribute(breed, \"is_hypoallergenic\")\n",
    "\n",
    "def get_name(breed):\n",
    "    return get_attribute(breed, \"name\")"
   ]
  },
  {
   "cell_type": "code",
   "execution_count": 31,
   "metadata": {},
   "outputs": [],
   "source": [
    "# 1 Sample T-Testing: compares a sample mean to a hypothetical population mean. \n",
    "# It answers the question “What is the probability that the sample came from a distribution with the desired mean?”\n",
    "\n",
    "# we know the average tail length for rottweiler bread is 4cm. We want to compares our sample mean to a hypothetical population mean (4cm). \n",
    "# The null hypothesis states that there is no significant difference: “The set of samples belongs to a population with the target mean”. \n",
    "# The alternative hypothesis assumes that some difference exists between two means.\n",
    "\n",
    "# Interpretation: Statistical significance is determined by looking at the p-value. \n",
    "# The p-value gives the probability of observing the test results under the null hypothesis. \n",
    "# The lower the p-value, the lower the probability of obtaining a result like the one that was observed if the null hypothesis was true. \n",
    "# Thus, a low p-value indicates decreased support for the null hypothesis. However, the possibility that the null hypothesis is true and that we simply obtained a very rare result can never be ruled out completely. \n",
    "# The cutoff value for determining statistical significance is usually a value of .05 or less is chosen. \n",
    "# This corresponds to a 5% (or less) chance of obtaining a result like the one that was observed if the null hypothesis was true.\n"
   ]
  },
  {
   "cell_type": "code",
   "execution_count": 36,
   "metadata": {},
   "outputs": [
    {
     "name": "stdout",
     "output_type": "stream",
     "text": [
      "0.2579725931822169\n",
      "1 Sample T-Testing:\n",
      "P-value is 0.26. Therefore, the null hypothesis is likely true. In other words, there is no significant difference: “The set of samples belongs to a population with the target mean.” \n"
     ]
    }
   ],
   "source": [
    "# 1 Sample T-Testing\n",
    "rottweiler_tl = get_tail_length(\"rottweiler\")\n",
    "#print rottweiler_tl\n",
    "r_m = np.mean(rottweiler_tl)\n",
    "#print r_m\n",
    "tval, pval = ttest_1samp(rottweiler_tl, 4)\n",
    "print(pval)\n",
    "#print(np.std(rottweiler_tl))\n",
    "#print(\"P-value\")\n",
    "print(\"1 Sample T-Testing:\") \n",
    "print(\"P-value is {}. Therefore, the null hypothesis is likely true. In other words, there is no significant difference: “The set of samples belongs to a population with the target mean.” \".format(round(pval,2)))"
   ]
  },
  {
   "cell_type": "code",
   "execution_count": null,
   "metadata": {},
   "outputs": [],
   "source": []
  }
 ],
 "metadata": {
  "kernelspec": {
   "display_name": "Python 3",
   "language": "python",
   "name": "python3"
  },
  "language_info": {
   "codemirror_mode": {
    "name": "ipython",
    "version": 3
   },
   "file_extension": ".py",
   "mimetype": "text/x-python",
   "name": "python",
   "nbconvert_exporter": "python",
   "pygments_lexer": "ipython3",
   "version": "3.7.1"
  }
 },
 "nbformat": 4,
 "nbformat_minor": 2
}
