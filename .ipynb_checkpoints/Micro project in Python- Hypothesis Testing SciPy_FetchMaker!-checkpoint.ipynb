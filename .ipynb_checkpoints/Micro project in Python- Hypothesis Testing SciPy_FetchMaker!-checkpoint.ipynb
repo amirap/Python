{
 "cells": [
  {
   "cell_type": "code",
   "execution_count": 2,
   "metadata": {},
   "outputs": [],
   "source": [
    "# Project: use different statistical testing to validate hypotheses \n",
    "# FetchMaker’s mission is to match up prospective dog owners with their perfect pet. "
   ]
  },
  {
   "cell_type": "code",
   "execution_count": 38,
   "metadata": {},
   "outputs": [],
   "source": [
    "import numpy as np\n",
    "import pandas as pd\n",
    "from scipy.stats import ttest_1samp, ttest_ind, binom_test, f_oneway, chi2_contingency\n",
    "from statsmodels.stats.multicomp import pairwise_tukeyhsd\n",
    "from IPython.core.interactiveshell import InteractiveShell\n",
    "InteractiveShell.ast_node_interactivity = \"all\""
   ]
  },
  {
   "cell_type": "code",
   "execution_count": 28,
   "metadata": {},
   "outputs": [],
   "source": [
    "dogs = pd.read_csv(\"Micro project in Python- Hypothesis Testing SciPy_Dataset.csv\")\n",
    "#print(dogs)"
   ]
  },
  {
   "cell_type": "code",
   "execution_count": 29,
   "metadata": {},
   "outputs": [],
   "source": [
    "# Define the function to retrieve dog attributes \n",
    "def get_attribute(breed, attribute):\n",
    "  if breed in dogs.breed.unique():\n",
    "    if attribute in dogs.columns:\n",
    "        return dogs[dogs[\"breed\"] == breed][attribute]\n",
    "    else:\n",
    "      raise NameError('Attribute {} does not exist.'.format(attribute))\n",
    "  else:\n",
    "    raise NameError('Breed {} does not exist.'.format(breed))"
   ]
  },
  {
   "cell_type": "code",
   "execution_count": 30,
   "metadata": {},
   "outputs": [],
   "source": [
    "# Define the sub-functions to retrieve different attributes \n",
    "def get_weight(breed):\n",
    "  return get_attribute(breed, 'weight')\n",
    "  \n",
    "def get_tail_length(breed):\n",
    "  return get_attribute(breed, 'tail_length')\n",
    "\n",
    "def get_color(breed):\n",
    "    return get_attribute(breed, 'color')\n",
    "\n",
    "def get_age(breed):\n",
    "    return get_attribute(breed, 'age')\n",
    "\n",
    "def get_is_rescue(breed):\n",
    "    return get_attribute(breed, 'is_rescue')\n",
    "\n",
    "def get_likes_children(breed):\n",
    "    return get_attribute(breed, 'likes_children')\n",
    "\n",
    "def get_is_hypoallergenic(breed):\n",
    "    return get_attribute(breed, \"is_hypoallergenic\")\n",
    "\n",
    "def get_name(breed):\n",
    "    return get_attribute(breed, \"name\")"
   ]
  },
  {
   "cell_type": "code",
   "execution_count": 31,
   "metadata": {},
   "outputs": [],
   "source": [
    "# 1 Sample T-Testing: compares a sample mean to a hypothetical population mean. \n",
    "# It answers the question “What is the probability that the sample came from a distribution with the desired mean?”\n",
    "\n",
    "# we know the average tail length for rottweiler bread is 4cm. We want to compares our sample mean to a hypothetical population mean (4cm). \n",
    "# The null hypothesis states that there is no significant difference: “The set of samples belongs to a population with the target mean”. \n",
    "# The alternative hypothesis assumes that some difference exists between two means.\n",
    "\n",
    "# Interpretation: Statistical significance is determined by looking at the p-value. \n",
    "# The p-value gives the probability of observing the test results under the null hypothesis. \n",
    "# The lower the p-value, the lower the probability of obtaining a result like the one that was observed if the null hypothesis was true. \n",
    "# Thus, a low p-value indicates decreased support for the null hypothesis. However, the possibility that the null hypothesis is true and that we simply obtained a very rare result can never be ruled out completely. \n",
    "# The cutoff value for determining statistical significance is usually a value of .05 or less is chosen. \n",
    "# This corresponds to a 5% (or less) chance of obtaining a result like the one that was observed if the null hypothesis was true.\n"
   ]
  },
  {
   "cell_type": "code",
   "execution_count": 37,
   "metadata": {},
   "outputs": [
    {
     "name": "stdout",
     "output_type": "stream",
     "text": [
      "0.2579725931822169\n",
      "1 Sample T-Testing:\n",
      "P-value is 0.26. Therefore, the null hypothesis is likely true. In other words, there is no significant difference: “The set of samples belongs to a population with the target mean.” \n"
     ]
    }
   ],
   "source": [
    "# 1 Sample T-Testing\n",
    "rottweiler_tl = get_tail_length(\"rottweiler\")\n",
    "#print rottweiler_tl\n",
    "r_m = np.mean(rottweiler_tl)\n",
    "#print r_m\n",
    "tval, pval = ttest_1samp(rottweiler_tl, 4)\n",
    "print(pval)\n",
    "#print(np.std(rottweiler_tl))\n",
    "#print(\"P-value\")\n",
    "print(\"1 Sample T-Testing:\") \n",
    "print(\"P-value is {}. Therefore, the null hypothesis is likely true. In other words, there is no significant difference: “The set of samples belongs to a population with the target mean.” \".format(round(pval,2)))"
   ]
  },
  {
   "cell_type": "code",
   "execution_count": 39,
   "metadata": {},
   "outputs": [],
   "source": [
    "# 2 Sample T-Testing: compare whether the average difference between two groups is really significant or if it is due instead to random chance. \n",
    "# The null hypothesis, in this case, is that the two distributions have the same mean.\n",
    "\n",
    "# We think the average weight of whippet and pitbull are same. \n",
    "# We wan to see is there any significant difference (reject null hypothesis or there is only random difference (meaning if we had bigger samples, there would be no difference). \n",
    "# We use with 2 Sample T-Testing. \n"
   ]
  },
  {
   "cell_type": "code",
   "execution_count": 52,
   "metadata": {},
   "outputs": [
    {
     "name": "stdout",
     "output_type": "stream",
     "text": [
      "0.03742529840191976\n",
      "2 Sample T-Testing:\n",
      "P-value is 0.04. Therefore, we can reject the null hypothesis. In other words, there is a significant difference between average weights of the two breeds” \n"
     ]
    }
   ],
   "source": [
    "# 2 Sample T-Testing\n",
    "w_w = get_weight(\"whippet\")\n",
    "w_p = get_weight(\"pitbull\")\n",
    "#print(np.mean(w_w))\n",
    "#print(np.mean(w_p))\n",
    "tval, pval = ttest_ind(w_w, w_p)\n",
    "print(pval)\n",
    "print(\"2 Sample T-Testing:\") \n",
    "print(\"P-value is {}. Therefore, we can reject the null hypothesis. In other words, there is a significant difference between average weights of the two breeds” \".format(round(pval,2)))"
   ]
  },
  {
   "cell_type": "code",
   "execution_count": 53,
   "metadata": {},
   "outputs": [],
   "source": [
    "# ANOVA (Analysis of Variance) tests the null hypothesis that all of the datasets have the same mean. \n",
    "# If we reject the null hypothesis with ANOVA, were saying that at least one of the sets has a different mean; \n",
    "# however, it does not tell us which datasets are different.\n",
    "\n",
    "# We want to see of there is a significant difference in the average weights of the three dog breeds? \n",
    "# we can use ANOVA method "
   ]
  },
  {
   "cell_type": "code",
   "execution_count": 55,
   "metadata": {},
   "outputs": [
    {
     "name": "stdout",
     "output_type": "stream",
     "text": [
      "ANOVA\n",
      "P-value is 3.276415588274815e-17. Therefore, we can reject the null hypothesis and say that at least one of the breads has different average weight. In other words, the result is statisctically significant\n"
     ]
    }
   ],
   "source": [
    "# ANOVA\n",
    "w_t = get_weight(\"terrier\")\n",
    "#print(np.mean(w_w))\n",
    "#print(np.mean(w_t))\n",
    "#print(np.mean(w_p))\n",
    "tval, pval = f_oneway(w_w,w_t,w_p)\n",
    "#print pval\n",
    "print(\"ANOVA:\") \n",
    "print(\"P-value is {}. Therefore, we can reject the null hypothesis and say that at least one of the breads has different average weight. In other words, the result is statisctically significant\".format(pval)) "
   ]
  },
  {
   "cell_type": "code",
   "execution_count": 56,
   "metadata": {},
   "outputs": [],
   "source": [
    "# Tukeys Range: we have performed ANOVA to compare three sets of data and we found that there is some significant difference between datasets. \n",
    "# We can perform a Tukey’s Range Test to determine the difference between datasets\n",
    "\n",
    "# Which of the pairs of these dog breeds differ from each other. \n",
    "# We can perform a Tukeys Range Test to determine the difference between datasets.\n"
   ]
  },
  {
   "cell_type": "code",
   "execution_count": 61,
   "metadata": {},
   "outputs": [
    {
     "name": "stdout",
     "output_type": "stream",
     "text": [
      "Multiple Comparison of Means - Tukey HSD,FWER=0.05\n",
      "==============================================\n",
      " group1  group2 meandiff  lower  upper  reject\n",
      "----------------------------------------------\n",
      "pitbull terrier  -13.24  -16.728 -9.752  True \n",
      "pitbull whippet  -3.34    -6.828 0.148  False \n",
      "terrier whippet   9.9     6.412  13.388  True \n",
      "----------------------------------------------\n",
      "Tukey_results\n",
      "Terrier breed has different average weight\n"
     ]
    }
   ],
   "source": [
    "# Tukeys Range\n",
    "w = np.concatenate([w_w,w_t,w_p])\n",
    "labels = ['whippet'] * len(w_w) + ['terrier'] * len(w_t) + ['pitbull'] * len(w_p)\n",
    "tukey_results = pairwise_tukeyhsd(w, labels, 0.05)\n",
    "print(tukey_results)\n",
    "print(\"Tukey_results\")\n",
    "print(\"Terrier breed has different average weight\")"
   ]
  },
  {
   "cell_type": "code",
   "execution_count": 62,
   "metadata": {},
   "outputs": [],
   "source": [
    "# Binomial Test: We want to know if whippets are significantly more or less likely to be a rescue. \n",
    "# To analyze a dataset like this, with two different possibilities for entries, we can use a Binomial Test. \n",
    "# A Binomial Test compares a categorical dataset to some expectation. In this case our expected percentage is 8%."
   ]
  },
  {
   "cell_type": "code",
   "execution_count": 65,
   "metadata": {},
   "outputs": [
    {
     "name": "stdout",
     "output_type": "stream",
     "text": [
      "P-value is 0.58. Therefore, we can't reject the null hypothesis. In other words, the result is not statisctically significant and we can say that expected percentage os of 8% can be true if we have a bigger sample data\n"
     ]
    }
   ],
   "source": [
    "# Binomial Test\n",
    "whippet_rescue =get_is_rescue(\"whippet\")\n",
    "#print whippet_rescue\n",
    "num_whippet_rescues = np.count_nonzero(whippet_rescue)\n",
    "num_whippets = np.size(whippet_rescue)\n",
    "#print(float(num_whippet_rescues)/num_whippets)\n",
    "pval=binom_test(num_whippet_rescues, p=0.08, n=float(num_whippets))\n",
    "print (\"P-value is {}. Therefore, we can't reject the null hypothesis. In other words, the result is not statisctically significant and we can say that expected percentage os of 8% can be true if we have a bigger sample data\".format(round(pval,2)))"
   ]
  },
  {
   "cell_type": "code",
   "execution_count": 66,
   "metadata": {},
   "outputs": [],
   "source": [
    "# Chi Square test: If we have two or more categorical datasets that we want to compare, \n",
    "# we should use a Chi Square test.\n",
    "\n",
    "# We want to see if \"poodle\"s and \"shihtzu\"s have significantly different color breakdowns."
   ]
  },
  {
   "cell_type": "code",
   "execution_count": 69,
   "metadata": {},
   "outputs": [
    {
     "name": "stdout",
     "output_type": "stream",
     "text": [
      "[[17, 10], [13, 36], [0.01, 0], [0, 0], [10, 7]]\n",
      "[[17, 10], [13, 36], [0.01, 0.01], [0, 0], [10, 7]]\n",
      "[[17, 10], [13, 36], [0.01, 0.01], [0.01, 0], [10, 7]]\n",
      "[[17, 10], [13, 36], [0.01, 0.01], [0.01, 0.01], [10, 7]]\n",
      "P-value is 0.021038135506335327. Therefore, we can reject the null hypothesis and and state that the two breeds have significantly different color breakdowns.\n"
     ]
    }
   ],
   "source": [
    "poodle_colors = get_color(\"poodle\")\n",
    "shihtzu_colors = get_color(\"shihtzu\")\n",
    "color_table = [[np.count_nonzero(poodle_colors == \"black\"), np.count_nonzero(shihtzu_colors == \"black\")],[np.count_nonzero(poodle_colors == \"brown\"), np.count_nonzero(shihtzu_colors == \"brown\")],[np.count_nonzero(poodle_colors == \"Gold\"), np.count_nonzero(shihtzu_colors == \"Gold\")],[np.count_nonzero(poodle_colors == \"Grey\"), np.count_nonzero(shihtzu_colors == \"Grey\")],[np.count_nonzero(poodle_colors == \"white\"), np.count_nonzero(shihtzu_colors == \"white\")]]\n",
    "# trap the error \n",
    "for i in range(0,5):\n",
    "  for j in range(0,2):\n",
    "    if color_table[i][j] == 0:\n",
    "      color_table[i][j] = color_table[i][j]+0.01\n",
    "\n",
    "      print(color_table) \n",
    "chi2, pval, dof, expected = chi2_contingency(color_table)\n",
    "#print pval\n",
    "print (\"P-value is {}. Therefore, we can reject the null hypothesis and and state that the two breeds have significantly different color breakdowns.\".format(pval)) "
   ]
  },
  {
   "cell_type": "code",
   "execution_count": null,
   "metadata": {},
   "outputs": [],
   "source": []
  }
 ],
 "metadata": {
  "kernelspec": {
   "display_name": "Python 3",
   "language": "python",
   "name": "python3"
  },
  "language_info": {
   "codemirror_mode": {
    "name": "ipython",
    "version": 3
   },
   "file_extension": ".py",
   "mimetype": "text/x-python",
   "name": "python",
   "nbconvert_exporter": "python",
   "pygments_lexer": "ipython3",
   "version": "3.7.1"
  }
 },
 "nbformat": 4,
 "nbformat_minor": 2
}
