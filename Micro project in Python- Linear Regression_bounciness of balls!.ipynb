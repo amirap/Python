{
 "cells": [
  {
   "cell_type": "markdown",
   "metadata": {},
   "source": [
    "# Project: Linear Regression\n",
    "\n",
    "We want to build new ball pit in the play area in a away that the bounciness of different balls are optimized to pits. We are running an experiment to bounce different sizes of bouncy balls, and then fitting lines to the data points we record. We use linear regression for this purpose\n"
   ]
  },
  {
   "cell_type": "markdown",
   "metadata": {},
   "source": [
    "## Part 1: Calculating Error"
   ]
  },
  {
   "cell_type": "code",
   "execution_count": null,
   "metadata": {},
   "outputs": [],
   "source": [
    "def get_y(m, b, x):\n",
    "  y = m * x + b\n",
    "  return y "
   ]
  },
  {
   "cell_type": "code",
   "execution_count": null,
   "metadata": {},
   "outputs": [],
   "source": [
    "#Write your calculate_error() function here\n",
    "def calculate_error(m,b,point):\n",
    "    x_point = point [0]\n",
    "    y_point = point [1]\n",
    "    return abs(y_point - get_y(m,b,x_point))"
   ]
  },
  {
   "cell_type": "code",
   "execution_count": null,
   "metadata": {},
   "outputs": [],
   "source": [
    "datapoints = [(1, 2), (2, 0), (3, 4), (4, 4), (5, 3)]"
   ]
  },
  {
   "cell_type": "code",
   "execution_count": null,
   "metadata": {},
   "outputs": [],
   "source": [
    "#Write your calculate_all_error function here\n",
    "def calculate_all_error(m,b,points):\n",
    "    t_r = 0\n",
    "    for point in points:\n",
    "        t_r += calculate_error(m,b,point)\n",
    "    return t_r"
   ]
  },
  {
   "cell_type": "markdown",
   "metadata": {},
   "source": [
    "## Part 2: Try a bunch of slopes and intercepts!\n"
   ]
  },
  {
   "cell_type": "code",
   "execution_count": null,
   "metadata": {},
   "outputs": [],
   "source": [
    "import numpy\n",
    "possible_ms = [m for m in numpy.arange(-10,10.1,0.1)]\n",
    "#print(possible_ms)"
   ]
  },
  {
   "cell_type": "code",
   "execution_count": null,
   "metadata": {},
   "outputs": [],
   "source": [
    "possible_bs = [b for b in numpy.arange(-20,20.1,0.1)]\n",
    "#print(possible_bs)"
   ]
  },
  {
   "cell_type": "code",
   "execution_count": null,
   "metadata": {},
   "outputs": [],
   "source": [
    "datapoints = [(1, 2), (2, 0), (3, 4), (4, 4), (5, 3)]\n",
    "smallest_error = float(\"inf\")\n",
    "best_m = 0\n",
    "best_b = 0\n",
    "for m in possible_ms:\n",
    "    for b in possible_bs:\n",
    "        if calculate_all_error(m,b,datapoints) < smallest_error:\n",
    "            smallest_error = calculate_all_error(m,b,datapoints)\n",
    "            best_m = m\n",
    "            best_b = b\n",
    "            #print(best_m)\n",
    "            #print(best_b)\n",
    "            #print(smallest_error)\n",
    " \n",
    "print(round(best_m,2))\n",
    "print(round(best_b,2))\n",
    "print(round(smallest_error,2))\n",
    "          "
   ]
  },
  {
   "cell_type": "markdown",
   "metadata": {},
   "source": [
    "## Part 3: What does our model predict?\n"
   ]
  },
  {
   "cell_type": "code",
   "execution_count": null,
   "metadata": {},
   "outputs": [],
   "source": [
    "x = 6\n",
    "get_y(best_m, best_b, x)"
   ]
  },
  {
   "cell_type": "markdown",
   "metadata": {},
   "source": [
    "Our model predicts that the 6cm ball will bounce 3.5m.\n"
   ]
  }
 ],
 "metadata": {
  "kernelspec": {
   "display_name": "Python 3",
   "language": "python",
   "name": "python3"
  },
  "language_info": {
   "codemirror_mode": {
    "name": "ipython",
    "version": 3
   },
   "file_extension": ".py",
   "mimetype": "text/x-python",
   "name": "python",
   "nbconvert_exporter": "python",
   "pygments_lexer": "ipython3",
   "version": "3.7.1"
  }
 },
 "nbformat": 4,
 "nbformat_minor": 2
}
