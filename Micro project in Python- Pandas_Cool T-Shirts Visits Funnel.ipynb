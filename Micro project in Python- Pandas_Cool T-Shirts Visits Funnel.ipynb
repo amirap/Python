{
 "cells": [
  {
   "cell_type": "code",
   "execution_count": null,
   "metadata": {},
   "outputs": [],
   "source": [
    "# Cool T-Shirts Inc. is an online shop to sell T-shirts. \n",
    "# The project is about to build a funnel, which is a description of how many people continue to the next step of a multi-step process.\n",
    "# In this case, our funnel is going to describe the following process:\n",
    "# A user visits CoolTShirts.com\n",
    "# A user adds a t-shirt to their cart\n",
    "# A user clicks “checkout”\n",
    "# A user actually purchases a t-shirt to know the amount of time from a user’s initial visit to the website to when they start to check out."
   ]
  },
  {
   "cell_type": "code",
   "execution_count": 1,
   "metadata": {},
   "outputs": [],
   "source": [
    "import pandas as pd"
   ]
  },
  {
   "cell_type": "code",
   "execution_count": 5,
   "metadata": {},
   "outputs": [
    {
     "name": "stdout",
     "output_type": "stream",
     "text": [
      "                                user_id          visit_time\n",
      "0  319350b4-9951-47ef-b3a7-6b252099905f 2017-02-21 07:16:00\n",
      "1  7435ec9f-576d-4ebd-8791-361b128fca77 2017-05-16 08:37:00\n",
      "2  0b061e73-f709-42fa-8d1a-5f68176ff154 2017-04-12 19:32:00\n",
      "                                user_id           cart_time\n",
      "0  2be90e7c-9cca-44e0-bcc5-124b945ff168 2017-11-07 20:45:00\n",
      "1  4397f73f-1da3-4ab3-91af-762792e25973 2017-05-27 01:35:00\n",
      "2  a9db3d4b-0a0a-4398-a55a-ebb2c7adf663 2017-03-04 10:38:00\n",
      "                                user_id       checkout_time\n",
      "0  fe90a9f4-960a-4a0d-9160-e562adb79365 2017-11-09 09:25:00\n",
      "1  1a35b7eb-f603-407d-91be-a2c3304066fd 2017-08-15 21:25:00\n",
      "2  e2c24ee0-7fdf-4400-abde-b36378fe5ce6 2017-07-04 15:39:00\n",
      "                                user_id       purchase_time\n",
      "0  4b44ace4-2721-47a0-b24b-15fbfa2abf85 2017-05-11 04:25:00\n",
      "1  02e684ae-a448-408f-a9ff-dcb4a5c99aac 2017-09-05 08:45:00\n",
      "2  4b4bc391-749e-4b90-ab8f-4f6e3c84d6dc 2017-11-20 20:49:00\n"
     ]
    }
   ],
   "source": [
    "# Load the data \n",
    "# visits lists all of the users who have visited the website\n",
    "visits = pd.read_csv('Micro project in Python- Cool T-Shirts visits_Dataset.csv',parse_dates=[1])\n",
    "# cart lists all of the users who have added a t-shirt to their cart\n",
    "cart = pd.read_csv('Micro project in Python- Cool T-Shirts cart_Dataset.csv',parse_dates=[1])\n",
    "# checkout lists all of the users who have started the checkout\n",
    "checkouts = pd.read_csv('Micro project in Python- Cool T-Shirts checkouts_Dataset.csv',parse_dates=[1])\n",
    "# purchase lists all of the users who have purchased a t-shirt\n",
    "purchase = pd.read_csv('Micro project in Python- Cool T-Shirts purchase_Dataset.csv',parse_dates=[1])\n",
    "print(visits.head(3))\n",
    "print(cart.head(3))\n",
    "print(checkouts.head(3))\n",
    "print(purchase.head(3))"
   ]
  },
  {
   "cell_type": "code",
   "execution_count": 7,
   "metadata": {},
   "outputs": [
    {
     "name": "stdout",
     "output_type": "stream",
     "text": [
      "100\n",
      "400\n",
      "100\n",
      "100\n",
      "100.0\n"
     ]
    }
   ],
   "source": [
    "# visit to cart churn \n",
    "v_2_c= pd.merge(visits, cart, how='left')\n",
    "print(len(visits))\n",
    "print(len(cart))\n",
    "print(len(v_2_c))\n",
    "churn = v_2_c[v_2_c.cart_time.isnull()]\n",
    "print(len(churn))\n",
    "vc_churn = float(len(churn))/len(visits) * 100\n",
    "print (vc_churn) "
   ]
  },
  {
   "cell_type": "code",
   "execution_count": 21,
   "metadata": {},
   "outputs": [
    {
     "name": "stdout",
     "output_type": "stream",
     "text": [
      "                                user_id          visit_time  \\\n",
      "0  319350b4-9951-47ef-b3a7-6b252099905f 2017-02-21 07:16:00   \n",
      "1  319350b4-9951-47ef-b3a7-6b252099905f 2017-02-21 07:16:00   \n",
      "2  7435ec9f-576d-4ebd-8791-361b128fca77 2017-05-16 08:37:00   \n",
      "\n",
      "        checkout_time     time  \n",
      "0 2017-02-21 07:27:00 00:11:00  \n",
      "1 2017-02-21 07:40:00 00:24:00  \n",
      "2 2017-05-16 08:49:00 00:12:00  \n",
      "the average time from the landing to checkout is 0 days 00:15:24.750000\n"
     ]
    }
   ],
   "source": [
    "# time to checkout\n",
    "v_to_c['time'] =v_to_c.checkout_time - v_to_c.visit_time\n",
    "print(v_to_c.head(3)) \n",
    "# average time to checkout\n",
    "print (\"the average time from the landing to checkout is {}\".format(v_to_c.time.mean()))"
   ]
  },
  {
   "cell_type": "code",
   "execution_count": null,
   "metadata": {},
   "outputs": [],
   "source": []
  },
  {
   "cell_type": "code",
   "execution_count": null,
   "metadata": {},
   "outputs": [],
   "source": []
  }
 ],
 "metadata": {
  "kernelspec": {
   "display_name": "Python 3",
   "language": "python",
   "name": "python3"
  },
  "language_info": {
   "codemirror_mode": {
    "name": "ipython",
    "version": 3
   },
   "file_extension": ".py",
   "mimetype": "text/x-python",
   "name": "python",
   "nbconvert_exporter": "python",
   "pygments_lexer": "ipython3",
   "version": "3.7.1"
  }
 },
 "nbformat": 4,
 "nbformat_minor": 2
}
