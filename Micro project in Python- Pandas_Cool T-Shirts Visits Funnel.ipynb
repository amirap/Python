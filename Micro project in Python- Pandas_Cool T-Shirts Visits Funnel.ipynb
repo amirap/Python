{
 "cells": [
  {
   "cell_type": "code",
   "execution_count": null,
   "metadata": {},
   "outputs": [],
   "source": [
    "# Cool T-Shirts Inc. is an online shop to sell T-shirts. \n",
    "# The project is about to build a funnel, which is a description of how many people continue to the next step of a multi-step process.\n",
    "# In this case, our funnel is going to describe the following process:\n",
    "# A user visits CoolTShirts.com\n",
    "# A user adds a t-shirt to their cart\n",
    "# A user clicks “checkout”\n",
    "# A user actually purchases a t-shirt to know the amount of time from a user’s initial visit to the website to when they start to check out."
   ]
  },
  {
   "cell_type": "code",
   "execution_count": 1,
   "metadata": {},
   "outputs": [],
   "source": [
    "import pandas as pd"
   ]
  },
  {
   "cell_type": "code",
   "execution_count": 22,
   "metadata": {},
   "outputs": [
    {
     "name": "stdout",
     "output_type": "stream",
     "text": [
      "                                user_id          visit_time\n",
      "0  943647ef-3682-4750-a2e1-918ba6f16188 2017-04-07 15:14:00\n",
      "1  0c3a3dd0-fb64-4eac-bf84-ba069ce409f2 2017-01-26 14:24:00\n",
      "2  6e0b2d60-4027-4d9a-babd-0e7d40859fb1 2017-08-20 08:23:00\n",
      "                                user_id           cart_time\n",
      "0  2be90e7c-9cca-44e0-bcc5-124b945ff168 2017-11-07 20:45:00\n",
      "1  4397f73f-1da3-4ab3-91af-762792e25973 2017-05-27 01:35:00\n",
      "2  a9db3d4b-0a0a-4398-a55a-ebb2c7adf663 2017-03-04 10:38:00\n",
      "                                user_id       checkout_time\n",
      "0  d33bdc47-4afa-45bc-b4e4-dbe948e34c0d 2017-06-25 09:29:00\n",
      "1  4ac186f0-9954-4fea-8a27-c081e428e34e 2017-04-07 20:11:00\n",
      "2  3c9c78a7-124a-4b77-8d2e-e1926e011e7d 2017-07-13 11:38:00\n",
      "                                user_id       purchase_time\n",
      "0  4b44ace4-2721-47a0-b24b-15fbfa2abf85 2017-05-11 04:25:00\n",
      "1  02e684ae-a448-408f-a9ff-dcb4a5c99aac 2017-09-05 08:45:00\n",
      "2  4b4bc391-749e-4b90-ab8f-4f6e3c84d6dc 2017-11-20 20:49:00\n"
     ]
    }
   ],
   "source": [
    "# Load the data \n",
    "# visits lists all of the users who have visited the website\n",
    "visits = pd.read_csv('Micro project in Python- Cool T-Shirts visits_Dataset.csv',parse_dates=[1])\n",
    "# cart lists all of the users who have added a t-shirt to their cart\n",
    "cart = pd.read_csv('Micro project in Python- Cool T-Shirts cart_Dataset.csv',parse_dates=[1])\n",
    "# checkout lists all of the users who have started the checkout\n",
    "checkouts = pd.read_csv('Micro project in Python- Cool T-Shirts checkouts_Dataset.csv',parse_dates=[1])\n",
    "# purchase lists all of the users who have purchased a t-shirt\n",
    "purchase = pd.read_csv('Micro project in Python- Cool T-Shirts purchase_Dataset.csv',parse_dates=[1])\n",
    "print(visits.head(3))\n",
    "print(cart.head(3))\n",
    "print(checkouts.head(3))\n",
    "print(purchase.head(3))"
   ]
  },
  {
   "cell_type": "code",
   "execution_count": 23,
   "metadata": {},
   "outputs": [
    {
     "name": "stdout",
     "output_type": "stream",
     "text": [
      "2000\n",
      "400\n",
      "2052\n",
      "1652\n",
      "82.6% of the visitors leave the website without adding anythin to the cart\n"
     ]
    }
   ],
   "source": [
    "# visit to cart churn \n",
    "v_2_c= pd.merge(visits, cart, how='left')\n",
    "print(len(visits))\n",
    "print(len(cart))\n",
    "print(len(v_2_c))\n",
    "vc_churn = v_2_c[v_2_c.cart_time.isnull()]\n",
    "print(len(vc_churn))\n",
    "vc_churn_r = float(len(vc_churn))/len(visits) * 100\n",
    "print(\"{}% of the visitors leave the website without adding anythin to the cart\".format(vc_churn_r))"
   ]
  },
  {
   "cell_type": "code",
   "execution_count": 26,
   "metadata": {},
   "outputs": [
    {
     "name": "stdout",
     "output_type": "stream",
     "text": [
      "400\n",
      "360\n",
      "602\n",
      "126\n",
      "31.5% of the visitors who added a product to the cart, leave the website without proceeding to checkout\n"
     ]
    }
   ],
   "source": [
    "# visit to check-out churn \n",
    "c_2_c= pd.merge(cart, checkouts,how='left')\n",
    "print(len(cart))\n",
    "print(len(checkouts))\n",
    "print(len(c_2_c))\n",
    "cc_churn = c_2_c[c_2_c.checkout_time.isnull()]\n",
    "print(len(cc_churn))\n",
    "cc_churn_r = float(len(cc_churn))/len(cart) * 100\n",
    "print(\"{}% of the visitors who added a product to the cart, leave the website without proceeding to checkout\".format(cc_churn_r))\n",
    "\n"
   ]
  },
  {
   "cell_type": "code",
   "execution_count": 21,
   "metadata": {},
   "outputs": [
    {
     "name": "stdout",
     "output_type": "stream",
     "text": [
      "                                user_id          visit_time  \\\n",
      "0  319350b4-9951-47ef-b3a7-6b252099905f 2017-02-21 07:16:00   \n",
      "1  319350b4-9951-47ef-b3a7-6b252099905f 2017-02-21 07:16:00   \n",
      "2  7435ec9f-576d-4ebd-8791-361b128fca77 2017-05-16 08:37:00   \n",
      "\n",
      "        checkout_time     time  \n",
      "0 2017-02-21 07:27:00 00:11:00  \n",
      "1 2017-02-21 07:40:00 00:24:00  \n",
      "2 2017-05-16 08:49:00 00:12:00  \n",
      "the average time from the landing to checkout is 0 days 00:15:24.750000\n"
     ]
    }
   ],
   "source": [
    "# time to checkout\n",
    "v_to_c['time'] =v_to_c.checkout_time - v_to_c.visit_time\n",
    "print(v_to_c.head(3)) \n",
    "# average time to checkout\n",
    "print (\"the average time from the landing to checkout is {}\".format(v_to_c.time.mean()))"
   ]
  },
  {
   "cell_type": "code",
   "execution_count": null,
   "metadata": {},
   "outputs": [],
   "source": []
  },
  {
   "cell_type": "code",
   "execution_count": null,
   "metadata": {},
   "outputs": [],
   "source": []
  }
 ],
 "metadata": {
  "kernelspec": {
   "display_name": "Python 3",
   "language": "python",
   "name": "python3"
  },
  "language_info": {
   "codemirror_mode": {
    "name": "ipython",
    "version": 3
   },
   "file_extension": ".py",
   "mimetype": "text/x-python",
   "name": "python",
   "nbconvert_exporter": "python",
   "pygments_lexer": "ipython3",
   "version": "3.7.1"
  }
 },
 "nbformat": 4,
 "nbformat_minor": 2
}
