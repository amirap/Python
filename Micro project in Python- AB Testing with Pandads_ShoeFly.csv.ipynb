{
 "cells": [
  {
   "cell_type": "code",
   "execution_count": 2,
   "metadata": {},
   "outputs": [],
   "source": [
    "# ShoeFly.com is performing an A/B Test. They have two different versions of an ad, which they have placed in \n",
    "# emails, as well as in banner ads on Facebook, Twitter, and Google. \n",
    "# They want to know how the two ads are performing on each of the different platforms on each day of the week."
   ]
  },
  {
   "cell_type": "code",
   "execution_count": 3,
   "metadata": {},
   "outputs": [],
   "source": [
    "import pandas as pd"
   ]
  },
  {
   "cell_type": "code",
   "execution_count": 7,
   "metadata": {},
   "outputs": [
    {
     "name": "stdout",
     "output_type": "stream",
     "text": [
      "                                user_id utm_source           day  \\\n",
      "0  008b7c6c-7272-471e-b90e-930d548bd8d7     google  6 - Saturday   \n",
      "1  009abb94-5e14-4b6c-bb1c-4f4df7aa7557   facebook    7 - Sunday   \n",
      "2  00f5d532-ed58-4570-b6d2-768df5f41aed    twitter   2 - Tuesday   \n",
      "\n",
      "  ad_click_timestamp experimental_group  \n",
      "0               7:18                  A  \n",
      "1                NaN                  B  \n",
      "2                NaN                  A  \n"
     ]
    }
   ],
   "source": [
    "# load the dataframe CSV\n",
    "ad_clicks = pd.read_csv('Micro project in Python- AB Testing with Pandads_Dataset.csv')\n",
    "print(ad_clicks.head(3))"
   ]
  },
  {
   "cell_type": "code",
   "execution_count": 9,
   "metadata": {},
   "outputs": [
    {
     "name": "stdout",
     "output_type": "stream",
     "text": [
      "   platfrom  nr_of_views\n",
      "0     email          255\n",
      "1  facebook          504\n",
      "2    google          680\n",
      "3   twitter          215\n"
     ]
    }
   ],
   "source": [
    "# How many views came from each platfrom?\n",
    "visit_platfrom = ad_clicks.groupby('utm_source').user_id.count().reset_index()\n",
    "# Rename the columns to be more representative\n",
    "visit_platfrom.columns = ['platfrom', 'nr_of_views']\n",
    "print(visit_platfrom)"
   ]
  },
  {
   "cell_type": "code",
   "execution_count": 12,
   "metadata": {},
   "outputs": [
    {
     "name": "stdout",
     "output_type": "stream",
     "text": [
      "  platfrom  nr_of_views\n",
      "2   google          680\n"
     ]
    }
   ],
   "source": [
    "# Which platfrom drived the most visit?\n",
    "max_view = visit_platfrom[visit_platfrom.nr_of_views == visit_platfrom.nr_of_views.max()]\n",
    "print(max_view)"
   ]
  },
  {
   "cell_type": "code",
   "execution_count": null,
   "metadata": {},
   "outputs": [],
   "source": []
  }
 ],
 "metadata": {
  "kernelspec": {
   "display_name": "Python 3",
   "language": "python",
   "name": "python3"
  },
  "language_info": {
   "codemirror_mode": {
    "name": "ipython",
    "version": 3
   },
   "file_extension": ".py",
   "mimetype": "text/x-python",
   "name": "python",
   "nbconvert_exporter": "python",
   "pygments_lexer": "ipython3",
   "version": "3.7.1"
  }
 },
 "nbformat": 4,
 "nbformat_minor": 2
}
