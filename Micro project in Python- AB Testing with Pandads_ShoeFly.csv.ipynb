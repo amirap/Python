{
 "cells": [
  {
   "cell_type": "code",
   "execution_count": 2,
   "metadata": {},
   "outputs": [],
   "source": [
    "# ShoeFly.com is performing an A/B Test. They have two different versions of an ad, which they have placed in \n",
    "# emails, as well as in banner ads on Facebook, Twitter, and Google. \n",
    "# They want to know how the two ads are performing on each of the different platforms on each day of the week."
   ]
  },
  {
   "cell_type": "code",
   "execution_count": 3,
   "metadata": {},
   "outputs": [],
   "source": [
    "import pandas as pd"
   ]
  },
  {
   "cell_type": "code",
   "execution_count": 7,
   "metadata": {},
   "outputs": [
    {
     "name": "stdout",
     "output_type": "stream",
     "text": [
      "                                user_id utm_source           day  \\\n",
      "0  008b7c6c-7272-471e-b90e-930d548bd8d7     google  6 - Saturday   \n",
      "1  009abb94-5e14-4b6c-bb1c-4f4df7aa7557   facebook    7 - Sunday   \n",
      "2  00f5d532-ed58-4570-b6d2-768df5f41aed    twitter   2 - Tuesday   \n",
      "\n",
      "  ad_click_timestamp experimental_group  \n",
      "0               7:18                  A  \n",
      "1                NaN                  B  \n",
      "2                NaN                  A  \n"
     ]
    }
   ],
   "source": [
    "# load the dataframe CSV\n",
    "ad_clicks = pd.read_csv('Micro project in Python- AB Testing with Pandads_Dataset.csv')\n",
    "print(ad_clicks.head(3))"
   ]
  },
  {
   "cell_type": "code",
   "execution_count": 9,
   "metadata": {},
   "outputs": [
    {
     "name": "stdout",
     "output_type": "stream",
     "text": [
      "   platfrom  nr_of_views\n",
      "0     email          255\n",
      "1  facebook          504\n",
      "2    google          680\n",
      "3   twitter          215\n"
     ]
    }
   ],
   "source": [
    "# How many views came from each platfrom?\n",
    "visit_platfrom = ad_clicks.groupby('utm_source').user_id.count().reset_index()\n",
    "# Rename the columns to be more representative\n",
    "visit_platfrom.columns = ['platfrom', 'nr_of_views']\n",
    "print(visit_platfrom)"
   ]
  },
  {
   "cell_type": "code",
   "execution_count": 12,
   "metadata": {},
   "outputs": [
    {
     "name": "stdout",
     "output_type": "stream",
     "text": [
      "  platfrom  nr_of_views\n",
      "2   google          680\n"
     ]
    }
   ],
   "source": [
    "# Which platfrom drived the most visits?\n",
    "max_view = visit_platfrom[visit_platfrom.nr_of_views == visit_platfrom.nr_of_views.max()]\n",
    "print(max_view)"
   ]
  },
  {
   "cell_type": "code",
   "execution_count": 13,
   "metadata": {},
   "outputs": [
    {
     "name": "stdout",
     "output_type": "stream",
     "text": [
      "                                user_id utm_source           day  \\\n",
      "0  008b7c6c-7272-471e-b90e-930d548bd8d7     google  6 - Saturday   \n",
      "1  009abb94-5e14-4b6c-bb1c-4f4df7aa7557   facebook    7 - Sunday   \n",
      "2  00f5d532-ed58-4570-b6d2-768df5f41aed    twitter   2 - Tuesday   \n",
      "\n",
      "  ad_click_timestamp experimental_group  is_click  \n",
      "0               7:18                  A      True  \n",
      "1                NaN                  B     False  \n",
      "2                NaN                  A     False  \n"
     ]
    }
   ],
   "source": [
    "#Real visits\n",
    "ad_clicks['is_click'] = ~ad_clicks.ad_click_timestamp.isnull()\n",
    "print(ad_clicks.head(3))"
   ]
  },
  {
   "cell_type": "code",
   "execution_count": 15,
   "metadata": {},
   "outputs": [
    {
     "name": "stdout",
     "output_type": "stream",
     "text": [
      "is_click utm_source  False  True\n",
      "0             email    175    80\n",
      "1          facebook    324   180\n",
      "2            google    441   239\n",
      "3           twitter    149    66\n",
      "is_click utm_source  False  True  percent_clicked\n",
      "0             email    175    80         0.313725\n",
      "1          facebook    324   180         0.357143\n",
      "2            google    441   239         0.351471\n",
      "3           twitter    149    66         0.306977\n"
     ]
    }
   ],
   "source": [
    "# The percent of real people who clicked on ads from each platform\n",
    "clicks_by_source = ad_clicks.groupby(['utm_source', 'is_click']).user_id.count().reset_index()\n",
    "# print(clicks_by_source)\n",
    "# Pivot the data\n",
    "clicks_pivot = clicks_by_source.pivot(columns = 'is_click', index = 'utm_source', values='user_id').reset_index()\n",
    "print(clicks_pivot)\n",
    "clicks_pivot['percent_clicked'] = clicks_pivot[True] / (clicks_pivot[True] + clicks_pivot[False])\n",
    "print(clicks_pivot)"
   ]
  },
  {
   "cell_type": "code",
   "execution_count": 16,
   "metadata": {},
   "outputs": [
    {
     "name": "stdout",
     "output_type": "stream",
     "text": [
      "experimental_group\n",
      "A    827\n",
      "B    827\n",
      "Name: user_id, dtype: int64\n",
      "experimental_group  is_click\n",
      "A                   False       517\n",
      "                    True        310\n",
      "B                   False       572\n",
      "                    True        255\n",
      "Name: user_id, dtype: int64\n"
     ]
    }
   ],
   "source": [
    "# A versus B ads, display and click \n",
    "A_B = ad_clicks.groupby('experimental_group').user_id.count()\n",
    "print(A_B)\n",
    "A_B_actual = ad_clicks.groupby(['experimental_group','is_click']).user_id.count()\n",
    "print(A_B_actual)"
   ]
  },
  {
   "cell_type": "code",
   "execution_count": 20,
   "metadata": {},
   "outputs": [
    {
     "name": "stdout",
     "output_type": "stream",
     "text": [
      "                                user_id utm_source           day  \\\n",
      "0  008b7c6c-7272-471e-b90e-930d548bd8d7     google  6 - Saturday   \n",
      "2  00f5d532-ed58-4570-b6d2-768df5f41aed    twitter   2 - Tuesday   \n",
      "\n",
      "  ad_click_timestamp experimental_group  is_click  \n",
      "0               7:18                  A      True  \n",
      "2                NaN                  A     False  \n",
      "                                user_id utm_source          day  \\\n",
      "1  009abb94-5e14-4b6c-bb1c-4f4df7aa7557   facebook   7 - Sunday   \n",
      "3  011adc64-0f44-4fd9-a0bb-f1506d2ad439     google  2 - Tuesday   \n",
      "\n",
      "  ad_click_timestamp experimental_group  is_click  \n",
      "1                NaN                  B     False  \n",
      "3                NaN                  B     False  \n"
     ]
    }
   ],
   "source": [
    "# clicks per day for each ad type A and B\n",
    "a_clicks = ad_clicks[ad_clicks.experimental_group == 'A']\n",
    "print(a_clicks.head(2))\n",
    "b_clicks = ad_clicks[ad_clicks.experimental_group == 'B']\n",
    "print(b_clicks.head(2))"
   ]
  },
  {
   "cell_type": "code",
   "execution_count": null,
   "metadata": {},
   "outputs": [],
   "source": []
  }
 ],
 "metadata": {
  "kernelspec": {
   "display_name": "Python 3",
   "language": "python",
   "name": "python3"
  },
  "language_info": {
   "codemirror_mode": {
    "name": "ipython",
    "version": 3
   },
   "file_extension": ".py",
   "mimetype": "text/x-python",
   "name": "python",
   "nbconvert_exporter": "python",
   "pygments_lexer": "ipython3",
   "version": "3.7.1"
  }
 },
 "nbformat": 4,
 "nbformat_minor": 2
}
