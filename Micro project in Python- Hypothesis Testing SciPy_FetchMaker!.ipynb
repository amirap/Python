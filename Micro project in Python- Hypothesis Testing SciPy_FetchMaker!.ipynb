{
 "cells": [
  {
   "cell_type": "code",
   "execution_count": 2,
   "metadata": {},
   "outputs": [],
   "source": [
    "# FetchMaker’s mission is to match up prospective dog owners with their perfect pet. "
   ]
  },
  {
   "cell_type": "code",
   "execution_count": 5,
   "metadata": {},
   "outputs": [],
   "source": [
    "import numpy as np\n",
    "import pandas as pd\n",
    "from scipy.stats import binom_test, f_oneway, chi2_contingency"
   ]
  },
  {
   "cell_type": "code",
   "execution_count": 9,
   "metadata": {},
   "outputs": [],
   "source": [
    "dogs = pd.read_csv(\"Micro project in Python- Hypothesis Testing SciPy_Dataset.csv\")\n",
    "#print(dogs)"
   ]
  },
  {
   "cell_type": "code",
   "execution_count": 10,
   "metadata": {},
   "outputs": [],
   "source": [
    "# Define the function to retrieve dog attributes \n",
    "def get_attribute(breed, attribute):\n",
    "  if breed in dogs.breed.unique():\n",
    "    if attribute in dogs.columns:\n",
    "        return dogs[dogs[\"breed\"] == breed][attribute]\n",
    "    else:\n",
    "      raise NameError('Attribute {} does not exist.'.format(attribute))\n",
    "  else:\n",
    "    raise NameError('Breed {} does not exist.'.format(breed))"
   ]
  },
  {
   "cell_type": "code",
   "execution_count": null,
   "metadata": {},
   "outputs": [],
   "source": []
  }
 ],
 "metadata": {
  "kernelspec": {
   "display_name": "Python 3",
   "language": "python",
   "name": "python3"
  },
  "language_info": {
   "codemirror_mode": {
    "name": "ipython",
    "version": 3
   },
   "file_extension": ".py",
   "mimetype": "text/x-python",
   "name": "python",
   "nbconvert_exporter": "python",
   "pygments_lexer": "ipython3",
   "version": "3.7.1"
  }
 },
 "nbformat": 4,
 "nbformat_minor": 2
}
