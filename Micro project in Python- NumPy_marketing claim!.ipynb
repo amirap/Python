{
 "cells": [
  {
   "cell_type": "code",
   "execution_count": null,
   "metadata": {},
   "outputs": [],
   "source": [
    "#This code is to use to generate a marketing claim for a new low carb cereal, named CrunchieMunchies, produced by YummyCorps. \n",
    "#It gets a CSV containing calories of competitor products, and calculate their mean, median, standard deviation, and other statistics. \n",
    "#Then it calculates the percentage of competitor cereals that have more than calories per serving and auto-generate\n",
    "#a marketing claim for YummyCorps marketing team. "
   ]
  },
  {
   "cell_type": "code",
   "execution_count": null,
   "metadata": {},
   "outputs": [],
   "source": [
    "import numpy as np\n",
    "\n",
    "# get the reported calorie amounts for different cereal brands\n",
    "calorie_stats = np.genfromtxt('cereal.csv', delimiter = ',')\n",
    "#print(calorie_stats)\n",
    "\n",
    "#average calorie\n",
    "average_calories = np.mean(calorie_stats)\n",
    "average_calories = round(average_calories,0)\n",
    "#print(average_calories)\n",
    "\n",
    "# Sort the data to get a better understading \n",
    "calorie_stats_sorted = np.sort(calorie_stats)\n",
    "#print(calorie_stats_sorted)\n",
    "\n",
    "# Cal median to get a better understading \n",
    "median_calories = np.median(calorie_stats)\n",
    "#print(median_calories)\n",
    "\n",
    "#calculate the percentage of cereals that have more than calery of our product per serving\n",
    "our_calories = 60\n",
    "more_calories = 0\n",
    "for i in range(0,100):\n",
    "  nth_percentile = np.percentile(calorie_stats, 100-i)\n",
    "  more_calories = i\n",
    "  #print(nth_percentile)\n",
    "  #print(more_calories)\n",
    "  if nth_percentile <= our_calories:\n",
    "    break  \n",
    "#print(more_calories) \n",
    "\n",
    "# how much variation exists in the dataset? Can we make the generalization\n",
    "calorie_std  = np.std(calorie_stats) \n",
    "# print(calorie_std)\n",
    "coefficient_of_variation = (calorie_std / average_calories) * 100\n",
    "#print(\"%\" + str(coefficient_of_variation))\n",
    "\n",
    "# the marketing message \n",
    "print (\"CrunchieMunchies, the newest product of YummyCorps, is a low carb cereal {}% of the competitor products'''\n",
    "       have more caloreis than CrunchieMunchies. While one serving of CrunchieMunchies has only {} calories,'''\n",
    "       ''' the average calories of the one serving of the {} competitor products are {}\"'''\n",
    "       .format(more_calories,our_calories,len(calorie_stats), average_calories))"
   ]
  },
  {
   "cell_type": "code",
   "execution_count": null,
   "metadata": {},
   "outputs": [],
   "source": []
  }
 ],
 "metadata": {
  "kernelspec": {
   "display_name": "Python 3",
   "language": "python",
   "name": "python3"
  },
  "language_info": {
   "codemirror_mode": {
    "name": "ipython",
    "version": 3
   },
   "file_extension": ".py",
   "mimetype": "text/x-python",
   "name": "python",
   "nbconvert_exporter": "python",
   "pygments_lexer": "ipython3",
   "version": "3.7.1"
  }
 },
 "nbformat": 4,
 "nbformat_minor": 2
}
