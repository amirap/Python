{
 "cells": [
  {
   "cell_type": "code",
   "execution_count": null,
   "metadata": {},
   "outputs": [],
   "source": [
    "# Cool T-Shirts Inc. is an online shop to sell T-shirts. \n",
    "# want to know the amount of time from a user’s initial visit to the website to when they start to check out."
   ]
  },
  {
   "cell_type": "code",
   "execution_count": 1,
   "metadata": {},
   "outputs": [],
   "source": [
    "import pandas as pd"
   ]
  },
  {
   "cell_type": "code",
   "execution_count": 3,
   "metadata": {},
   "outputs": [
    {
     "name": "stdout",
     "output_type": "stream",
     "text": [
      "                                user_id          visit_time\n",
      "0  319350b4-9951-47ef-b3a7-6b252099905f 2017-02-21 07:16:00\n",
      "1  7435ec9f-576d-4ebd-8791-361b128fca77 2017-05-16 08:37:00\n",
      "2  0b061e73-f709-42fa-8d1a-5f68176ff154 2017-04-12 19:32:00\n",
      "                                user_id       checkout_time\n",
      "0  fe90a9f4-960a-4a0d-9160-e562adb79365 2017-11-09 09:25:00\n",
      "1  1a35b7eb-f603-407d-91be-a2c3304066fd 2017-08-15 21:25:00\n",
      "2  e2c24ee0-7fdf-4400-abde-b36378fe5ce6 2017-07-04 15:39:00\n"
     ]
    }
   ],
   "source": [
    "# Load the data \n",
    "visits = pd.read_csv('Micro project in Python- Cool T-Shirts visits_Dataset.csv',parse_dates=[1])\n",
    "print(visits.head(3)) \n",
    "checkouts = pd.read_csv('Micro project in Python- Cool T-Shirts checkouts_Dataset.csv',parse_dates=[1])\n",
    "print(checkouts.head(3))"
   ]
  },
  {
   "cell_type": "code",
   "execution_count": 5,
   "metadata": {},
   "outputs": [
    {
     "name": "stdout",
     "output_type": "stream",
     "text": [
      "                                user_id          visit_time  \\\n",
      "0  319350b4-9951-47ef-b3a7-6b252099905f 2017-02-21 07:16:00   \n",
      "1  319350b4-9951-47ef-b3a7-6b252099905f 2017-02-21 07:16:00   \n",
      "2  7435ec9f-576d-4ebd-8791-361b128fca77 2017-05-16 08:37:00   \n",
      "\n",
      "        checkout_time  \n",
      "0 2017-02-21 07:27:00  \n",
      "1 2017-02-21 07:40:00  \n",
      "2 2017-05-16 08:49:00  \n"
     ]
    }
   ],
   "source": [
    "# merge two datasets \n",
    "v_to_c = pd.merge(visits, checkouts)\n",
    "print(v_to_c.head(3)) "
   ]
  },
  {
   "cell_type": "code",
   "execution_count": 21,
   "metadata": {},
   "outputs": [
    {
     "name": "stdout",
     "output_type": "stream",
     "text": [
      "                                user_id          visit_time  \\\n",
      "0  319350b4-9951-47ef-b3a7-6b252099905f 2017-02-21 07:16:00   \n",
      "1  319350b4-9951-47ef-b3a7-6b252099905f 2017-02-21 07:16:00   \n",
      "2  7435ec9f-576d-4ebd-8791-361b128fca77 2017-05-16 08:37:00   \n",
      "\n",
      "        checkout_time     time  \n",
      "0 2017-02-21 07:27:00 00:11:00  \n",
      "1 2017-02-21 07:40:00 00:24:00  \n",
      "2 2017-05-16 08:49:00 00:12:00  \n",
      "the average time from the landing to checkout is 0 days 00:15:24.750000\n"
     ]
    }
   ],
   "source": [
    "# time to checkout\n",
    "v_to_c['time'] =v_to_c.checkout_time - v_to_c.visit_time\n",
    "print(v_to_c.head(3)) \n",
    "# average time to checkout\n",
    "print (\"the average time from the landing to checkout is {}\".format(v_to_c.time.mean()))"
   ]
  },
  {
   "cell_type": "code",
   "execution_count": null,
   "metadata": {},
   "outputs": [],
   "source": []
  },
  {
   "cell_type": "code",
   "execution_count": null,
   "metadata": {},
   "outputs": [],
   "source": []
  }
 ],
 "metadata": {
  "kernelspec": {
   "display_name": "Python 3",
   "language": "python",
   "name": "python3"
  },
  "language_info": {
   "codemirror_mode": {
    "name": "ipython",
    "version": 3
   },
   "file_extension": ".py",
   "mimetype": "text/x-python",
   "name": "python",
   "nbconvert_exporter": "python",
   "pygments_lexer": "ipython3",
   "version": "3.7.1"
  }
 },
 "nbformat": 4,
 "nbformat_minor": 2
}
